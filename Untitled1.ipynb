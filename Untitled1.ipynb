{
 "cells": [
  {
   "cell_type": "code",
   "execution_count": 1,
   "metadata": {},
   "outputs": [],
   "source": [
    "import nsfg\n",
    "import numpy as np\n",
    "import pandas as pd\n",
    "import thinkplot\n",
    "import thinkstats2"
   ]
  },
  {
   "cell_type": "code",
   "execution_count": 2,
   "metadata": {},
   "outputs": [],
   "source": [
    "resp=nsfg.ReadFemResp()"
   ]
  },
  {
   "cell_type": "code",
   "execution_count": 3,
   "metadata": {},
   "outputs": [
    {
     "name": "stdout",
     "output_type": "stream",
     "text": [
      "Average of Timesmar=  1.38705768299\n",
      "Standart Deviation of Timesmar 4.29711302325\n"
     ]
    }
   ],
   "source": [
    "timesmar=resp.timesmar.dropna()\n",
    "timesmar_avg=timesmar.mean()\n",
    "timesmar_std=timesmar.std()\n",
    "print \"Average of Timesmar= \", timesmar_avg\n",
    "print \"Standart Deviation of Timesmar\" , timesmar_std"
   ]
  },
  {
   "cell_type": "code",
   "execution_count": 4,
   "metadata": {},
   "outputs": [
    {
     "name": "stdout",
     "output_type": "stream",
     "text": [
      "Average of Jintendn=  2.70525568182\n",
      "Standart Deviation of Jintendn 9.71010805146\n"
     ]
    }
   ],
   "source": [
    "jintendn=resp.jintendn.dropna()\n",
    "jintendn_avg=jintendn.mean()\n",
    "jintendn_std=jintendn.std()\n",
    "print \"Average of Jintendn= \", jintendn_avg\n",
    "print \"Standart Deviation of Jintendn\" , jintendn_std"
   ]
  },
  {
   "cell_type": "code",
   "execution_count": 5,
   "metadata": {},
   "outputs": [],
   "source": [
    "\n",
    "def Mean(xs):\n",
    "    return RawMoment(xs, 1)\n",
    "def Var(xs):\n",
    "    return CentralMoment(xs, 2)\n",
    "def Median(xs):\n",
    "    cdf = thinkstats2.Cdf(xs)\n",
    "    return cdf.Value(0.5)\n",
    "def RawMoment(xs, k):\n",
    "    return sum(x**k for x in xs) / len(xs)\n",
    "def CentralMoment(xs, k):\n",
    "    mean = RawMoment(xs, 1)\n",
    "    sum_list = [(x - mean)**k for x in xs]\n",
    "    return sum(sum_list) / len(sum_list)\n",
    "def StandardizedMoment(xs, k):\n",
    "    var = CentralMoment(xs, 2)\n",
    "    std = np.sqrt(var)\n",
    "    return CentralMoment(xs, k) / std**k\n",
    "def Skewness(xs):\n",
    "    return StandardizedMoment(xs, 3)\n",
    "def PearsonMedianSkewness(xs):\n",
    "    median = Median(xs)\n",
    "    mean = RawMoment(xs, 1)\n",
    "    var = CentralMoment(xs, 2)\n",
    "    std = np.sqrt(var)\n",
    "    gp = 3 * (mean - median) / std\n",
    "    return gp\n",
    "def SampleRows(df, nrows, replace=False):\n",
    "    indices = np.random.choice(df.index, nrows, replace=replace)\n",
    "    print(indices)\n",
    "    sample = df.loc[indices]\n",
    "    return sample\n",
    "def Jitter(values, jitter=0.5):\n",
    "    n = len(values)\n",
    "    return np.random.normal(0, jitter, n) + values\n",
    "def Cov(xs, ys, meanx=None, meany=None):\n",
    "    xs = np.asarray(xs)\n",
    "    ys = np.asarray(ys)\n",
    "\n",
    "    if meanx is None:\n",
    "        meanx = np.mean(xs)\n",
    "    if meany is None:\n",
    "        meany = np.mean(ys)\n",
    "\n",
    "    cov = np.dot(xs-meanx, ys-meany) / len(xs)\n",
    "    return cov\n",
    "def Corr(xs, ys):\n",
    "    xs = np.asarray(xs)\n",
    "    ys = np.asarray(ys)\n",
    "\n",
    "    meanx, varx = thinkstats2.MeanVar(xs)\n",
    "    meany, vary = thinkstats2.MeanVar(ys)\n",
    "\n",
    "    corr = Cov(xs, ys, meanx, meany) / np.sqrt(varx * vary)\n",
    "    return corr\n",
    "def SpearmanCorr(xs, ys):\n",
    "    xranks = pd.Series(xs).rank()\n",
    "    yranks = pd.Series(ys).rank()\n",
    "    return Corr(xranks, yranks)\n"
   ]
  },
  {
   "cell_type": "code",
   "execution_count": 11,
   "metadata": {},
   "outputs": [
    {
     "name": "stdout",
     "output_type": "stream",
     "text": [
      "Black for Timesmar\n",
      "Red for Jintendn\n"
     ]
    },
    {
     "data": {
      "image/png": "[encoded data removed]",
      "text/plain": [
       "<matplotlib.figure.Figure at 0x1973f4e0>"
      ]
     },
     "metadata": {},
     "output_type": "display_data"
    }
   ],
   "source": [
    "timesmar_pdf=thinkstats2.NormalPdf(timesmar_avg,timesmar_std)\n",
    "thinkplot.Pdf(timesmar_pdf,color=\"black\")\n",
    "\n",
    "\n",
    "jintendn_pdf=thinkstats2.NormalPdf(jintendn_avg,jintendn_std)\n",
    "thinkplot.Pdf(jintendn_pdf,color=\"red\")\n",
    "\n",
    "print \"Black for Timesmar\"\n",
    "print \"Red for Jintendn\"\n"
   ]
  },
  {
   "cell_type": "code",
   "execution_count": 13,
   "metadata": {},
   "outputs": [
    {
     "data": {
      "text/plain": [
       "(9.686914057933583, 0.5270368429720083)"
      ]
     },
     "execution_count": 13,
     "metadata": {},
     "output_type": "execute_result"
    },
    {
     "data": {
      "image/png": "[encoded data removed]",
      "text/plain": [
       "<matplotlib.figure.Figure at 0x19710f28>"
      ]
     },
     "metadata": {},
     "output_type": "display_data"
    }
   ],
   "source": [
    "timesmar_pdf=thinkstats2.EstimatedPdf(timesmar)\n",
    "thinkplot.Pdf(timesmar_pdf,color=\"black\")\n",
    "thinkplot.Config(xlabel='times married', ylabel='PDF',xlim=[-3,10])\n",
    "Skewness(timesmar), PearsonMedianSkewness(timesmar)\n",
    "\n",
    "\n",
    "\n",
    "jintendn_pdf=thinkstats2.EstimatedPdf(jintendn)\n",
    "thinkplot.Pdf(jintendn_pdf,color=\"red\")\n",
    "thinkplot.Config(xlabel='How many more babies do you intend to have?', ylabel='PDF',xlim=[-3,10])\n",
    "Skewness(jintendn), PearsonMedianSkewness(jintendn)\n"
   ]
  },
  {
   "cell_type": "code",
   "execution_count": 14,
   "metadata": {},
   "outputs": [
    {
     "name": "stdout",
     "output_type": "stream",
     "text": [
      "[3114 5088 6695 ... 6700 4766 2255]\n"
     ]
    }
   ],
   "source": [
    "\n",
    "sample = SampleRows(resp, 5000)\n",
    "timesmarried, jinten = sample.timesmar, sample.jintendn"
   ]
  },
  {
   "cell_type": "code",
   "execution_count": 15,
   "metadata": {},
   "outputs": [
    {
     "data": {
      "image/png": "[encoded data removed]",
      "text/plain": [
       "<matplotlib.figure.Figure at 0x18991e48>"
      ]
     },
     "metadata": {},
     "output_type": "display_data"
    }
   ],
   "source": [
    "thinkplot.Scatter(timesmarried, jinten, alpha=1,color='Orange')\n",
    "thinkplot.Config(xlabel='Times married',\n",
    "                 ylabel='# of babies wanted')"
   ]
  },
  {
   "cell_type": "code",
   "execution_count": 28,
   "metadata": {},
   "outputs": [
    {
     "name": "stdout",
     "output_type": "stream",
     "text": [
      "[ 1  2  3  4  5  6  7  8  9 10 11 12 13 14 15 16 17 18 19 20]\n",
      "[1 2 1 ... 2 1 2]\n",
      "<pandas.core.groupby.DataFrameGroupBy object at 0x0000000012C1DE10>\n",
      "0 4\n",
      "1 568\n",
      "2 333\n",
      "3 92\n",
      "4 43\n",
      "5 14\n",
      "6 5\n",
      "10 3\n",
      "12 1\n",
      "20 11\n"
     ]
    }
   ],
   "source": [
    "perc_sbst= resp.dropna(subset=['timesmar', 'jintendn'])\n",
    "bins = np.arange(1, 15, 1)\n",
    "print (bins)\n",
    "indices = np.digitize(perc_sbst.jintendn, bins)\n",
    "print indices\n",
    "groups = perc_sbst.groupby(indices)\n",
    "print(groups)\n",
    "\n",
    "\n",
    "for i, group in groups:\n",
    "    print i, len(group)\n"
   ]
  },
  {
   "cell_type": "code",
   "execution_count": 29,
   "metadata": {},
   "outputs": [
    {
     "data": {
      "text/plain": [
       "[0.0, 1.0, 2.0, 3.0, 4.0, 5.0, 6.0, 10.0, 12.0, 99.0]"
      ]
     },
     "execution_count": 29,
     "metadata": {},
     "output_type": "execute_result"
    }
   ],
   "source": [
    "\n",
    "\n",
    "jinten_avg = [group.jintendn.mean() for i, group in groups]\n",
    "cdfs = [thinkstats2.Cdf(group.timesmar) for i, group in groups]\n",
    "jinten_avg"
   ]
  },
  {
   "cell_type": "code",
   "execution_count": 23,
   "metadata": {},
   "outputs": [
    {
     "name": "stdout",
     "output_type": "stream",
     "text": [
      "0 4\n",
      "1 568\n",
      "2 333\n",
      "3 92\n",
      "4 43\n",
      "5 14\n",
      "6 5\n",
      "10 3\n",
      "12 1\n",
      "20 11\n"
     ]
    }
   ],
   "source": []
  },
  {
   "cell_type": "code",
   "execution_count": 30,
   "metadata": {},
   "outputs": [
    {
     "data": {
      "image/png": "[encoded data removed]",
      "text/plain": [
       "<matplotlib.figure.Figure at 0xe7e2c18>"
      ]
     },
     "metadata": {},
     "output_type": "display_data"
    }
   ],
   "source": [
    "CustomColors = [\"black\", \"blue\", \"yellow\"]\n",
    "percent = [75, 50, 25]\n",
    "for i in range(len(percent)):\n",
    "    jinten_percentiles = [cdf.Percentile(percent[i]) for cdf in cdfs]\n",
    "    label = '%dth' % percent[i]\n",
    "    thinkplot.Plot(jinten_avg, jinten_percentiles, label=label, color=CustomColors[i])\n",
    "\n",
    "thinkplot.Config(xlabel='Height (cm)',\n",
    "                 ylabel='Weight (kg)',\n",
    "                 legend=True)"
   ]
  },
  {
   "cell_type": "code",
   "execution_count": 32,
   "metadata": {},
   "outputs": [
    {
     "data": {
      "text/plain": [
       "(-0.03652346652385939, -0.08337747790348256)"
      ]
     },
     "execution_count": 32,
     "metadata": {},
     "output_type": "execute_result"
    }
   ],
   "source": [
    "pearson= Corr(percsub.jintendn,percsub.timesmar)\n",
    "spearman=SpearmanCorr(percsub.timesmar,percsub.jintendn)\n",
    "pearson, spearman"
   ]
  },
  {
   "cell_type": "code",
   "execution_count": null,
   "metadata": {},
   "outputs": [],
   "source": []
  },
  {
   "cell_type": "code",
   "execution_count": null,
   "metadata": {},
   "outputs": [],
   "source": []
  }
 ],
 "metadata": {
  "kernelspec": {
   "display_name": "Python 2",
   "language": "python",
   "name": "python2"
  },
  "language_info": {
   "codemirror_mode": {
    "name": "ipython",
    "version": 2
   },
   "file_extension": ".py",
   "mimetype": "text/x-python",
   "name": "python",
   "nbconvert_exporter": "python",
   "pygments_lexer": "ipython2",
   "version": "2.7.14"
  }
 },
 "nbformat": 4,
 "nbformat_minor": 2
}
